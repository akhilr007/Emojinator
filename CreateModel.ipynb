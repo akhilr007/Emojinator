{
 "cells": [
  {
   "cell_type": "code",
   "execution_count": 2,
   "metadata": {},
   "outputs": [],
   "source": [
    "import numpy as np\n",
    "from keras.layers import Dense, Flatten, Conv2D\n",
    "from keras.layers import MaxPooling2D, Dropout\n",
    "from keras.utils import np_utils, print_summary\n",
    "from keras.models import Sequential\n",
    "from keras.callbacks import ModelCheckpoint\n",
    "import pandas as pd\n",
    "import keras.backend as K"
   ]
  },
  {
   "cell_type": "code",
   "execution_count": 5,
   "metadata": {},
   "outputs": [],
   "source": [
    "data = pd.read_csv(\"train_foo.csv\")   #Loading our csv file \n",
    "dataset = np.array(data)              #Converting CSV file into np.array\n",
    "np.random.shuffle(dataset) #Shuffling our dataset to create even distribution of our datasets\n",
    "#Storing our dataset into two variables X and Y\n",
    "X = dataset\n",
    "Y = dataset\n",
    "X = X[:, 1:2501]   #X contains all the pixels values,i.e, 50x50=2500\n",
    "Y = Y[:, 0]"
   ]
  },
  {
   "cell_type": "code",
   "execution_count": 6,
   "metadata": {},
   "outputs": [],
   "source": [
    "#Splitting our dataset into train and test\n",
    "X_train = X[0:12000, :]\n",
    "X_train = X_train / 255.\n",
    "X_test = X[12000:13201, :]\n",
    "X_test = X_test / 255."
   ]
  },
  {
   "cell_type": "code",
   "execution_count": 7,
   "metadata": {},
   "outputs": [],
   "source": [
    "Y = Y.reshape(Y.shape[0], 1)\n",
    "Y_train = Y[0:12000, :]\n",
    "Y_train = Y_train.T\n",
    "Y_test = Y[12000:13201, :]\n",
    "Y_test = Y_test.T"
   ]
  },
  {
   "cell_type": "code",
   "execution_count": 8,
   "metadata": {},
   "outputs": [
    {
     "name": "stdout",
     "output_type": "stream",
     "text": [
      "Number of training examples = 12000\n",
      "Number of test examples = 1199\n",
      "X_train shape : (12000, 2500)\n",
      "X_test shape : (1199, 2500)\n",
      "Y_train shape : (1, 12000)\n",
      "Y_test shape : (1, 1199)\n"
     ]
    }
   ],
   "source": [
    "print(\"Number of training examples = \" + str(X_train.shape[0]))\n",
    "print(\"Number of test examples = \" + str(X_test.shape[0]))\n",
    "print(\"X_train shape : \" + str(X_train.shape))\n",
    "print(\"X_test shape : \" + str(X_test.shape))\n",
    "print(\"Y_train shape : \" + str(Y_train.shape))\n",
    "print(\"Y_test shape : \" + str(Y_test.shape))"
   ]
  },
  {
   "cell_type": "code",
   "execution_count": 10,
   "metadata": {},
   "outputs": [
    {
     "name": "stdout",
     "output_type": "stream",
     "text": [
      "X_train shape:  (12000, 50, 50, 1)\n",
      "X_test shape:  (1199, 50, 50, 1)\n",
      "train_y shape:  (12000, 12)\n",
      "test_y shape:  (1199, 12)\n"
     ]
    }
   ],
   "source": [
    "image_x = 50\n",
    "image_y = 50\n",
    "#One hot encoding on train and test of Y\n",
    "train_y = np_utils.to_categorical(Y_train)    \n",
    "test_y = np_utils.to_categorical(Y_test)\n",
    "train_y = train_y.reshape(train_y.shape[1], train_y.shape[2])\n",
    "test_y = test_y.reshape(test_y.shape[1], test_y.shape[2])\n",
    "X_train = X_train.reshape(X_train.shape[0], 50, 50, 1)\n",
    "X_test = X_test.reshape(X_test.shape[0], 50, 50, 1)\n",
    "print(\"X_train shape: \", str(X_train.shape))\n",
    "print(\"X_test shape: \", str(X_test.shape))\n",
    "print(\"train_y shape: \", str(train_y.shape))\n",
    "print(\"test_y shape: \", str(test_y.shape))"
   ]
  },
  {
   "cell_type": "code",
   "execution_count": 13,
   "metadata": {},
   "outputs": [],
   "source": [
    "def keras_model(image_x, image_y):\n",
    "    num_of_classes = 12\n",
    "    model = Sequential()\n",
    "    model.add(Conv2D(32, kernel_size = (5, 5), input_shape = (image_x, image_y, 1), activation = 'relu'))\n",
    "    model.add(MaxPooling2D(pool_size = (2, 2), strides = (2, 2), padding = 'same'))\n",
    "    model.add(Conv2D(64, kernel_size = (5, 5), input_shape = (image_x, image_y, 1), activation = 'relu'))\n",
    "    model.add(MaxPooling2D(pool_size = (5, 5), strides = (5, 5), padding = 'same'))\n",
    "    model.add(Flatten())\n",
    "    model.add(Dense(1024, activation = 'relu'))\n",
    "    model.add(Dropout(0.6))\n",
    "    model.add(Dense(num_of_classes, activation = 'softmax'))\n",
    "    \n",
    "    model.compile(loss = 'categorical_crossentropy', optimizer = 'adam', metrics = ['accuracy'])\n",
    "    filepath = \"hand_gestures.h5\"\n",
    "    checkpoint1 = ModelCheckpoint(filepath, monitor = 'val_acc', verbose = 1, save_best_only = True, mode = 'max')\n",
    "    callbacks_list = [checkpoint1]\n",
    "    \n",
    "    return model, callbacks_list"
   ]
  },
  {
   "cell_type": "code",
   "execution_count": 14,
   "metadata": {},
   "outputs": [
    {
     "name": "stdout",
     "output_type": "stream",
     "text": [
      "WARNING:tensorflow:From C:\\Users\\DELL\\Anaconda3\\lib\\site-packages\\tensorflow\\python\\framework\\op_def_library.py:263: colocate_with (from tensorflow.python.framework.ops) is deprecated and will be removed in a future version.\n",
      "Instructions for updating:\n",
      "Colocations handled automatically by placer.\n",
      "WARNING:tensorflow:From C:\\Users\\DELL\\Anaconda3\\lib\\site-packages\\keras\\backend\\tensorflow_backend.py:3445: calling dropout (from tensorflow.python.ops.nn_ops) with keep_prob is deprecated and will be removed in a future version.\n",
      "Instructions for updating:\n",
      "Please use `rate` instead of `keep_prob`. Rate should be set to `rate = 1 - keep_prob`.\n",
      "WARNING:tensorflow:From C:\\Users\\DELL\\Anaconda3\\lib\\site-packages\\tensorflow\\python\\ops\\math_ops.py:3066: to_int32 (from tensorflow.python.ops.math_ops) is deprecated and will be removed in a future version.\n",
      "Instructions for updating:\n",
      "Use tf.cast instead.\n",
      "Train on 12000 samples, validate on 1199 samples\n",
      "Epoch 1/10\n",
      "12000/12000 [==============================] - 92s 8ms/step - loss: 0.1652 - acc: 0.9497 - val_loss: 0.0161 - val_acc: 0.9975\n",
      "\n",
      "Epoch 00001: val_acc improved from -inf to 0.99750, saving model to hand_gestures.h5\n",
      "Epoch 2/10\n",
      "12000/12000 [==============================] - 83s 7ms/step - loss: 0.0086 - acc: 0.9972 - val_loss: 0.0144 - val_acc: 0.9975\n",
      "\n",
      "Epoch 00002: val_acc did not improve from 0.99750\n",
      "Epoch 3/10\n",
      "12000/12000 [==============================] - 81s 7ms/step - loss: 0.0032 - acc: 0.9990 - val_loss: 0.0088 - val_acc: 0.9983\n",
      "\n",
      "Epoch 00003: val_acc improved from 0.99750 to 0.99833, saving model to hand_gestures.h5\n",
      "Epoch 4/10\n",
      "12000/12000 [==============================] - 81s 7ms/step - loss: 0.0044 - acc: 0.9986 - val_loss: 0.0114 - val_acc: 0.9983\n",
      "\n",
      "Epoch 00004: val_acc did not improve from 0.99833\n",
      "Epoch 5/10\n",
      "12000/12000 [==============================] - 81s 7ms/step - loss: 0.0043 - acc: 0.9987 - val_loss: 0.0241 - val_acc: 0.9925\n",
      "\n",
      "Epoch 00005: val_acc did not improve from 0.99833\n",
      "Epoch 6/10\n",
      "12000/12000 [==============================] - 81s 7ms/step - loss: 0.0012 - acc: 0.9997 - val_loss: 0.0088 - val_acc: 0.9975\n",
      "\n",
      "Epoch 00006: val_acc did not improve from 0.99833\n",
      "Epoch 7/10\n",
      "12000/12000 [==============================] - 81s 7ms/step - loss: 0.0010 - acc: 0.9995 - val_loss: 0.0045 - val_acc: 0.9992\n",
      "\n",
      "Epoch 00007: val_acc improved from 0.99833 to 0.99917, saving model to hand_gestures.h5\n",
      "Epoch 8/10\n",
      "12000/12000 [==============================] - 81s 7ms/step - loss: 3.9369e-04 - acc: 0.9998 - val_loss: 0.0056 - val_acc: 0.9992\n",
      "\n",
      "Epoch 00008: val_acc did not improve from 0.99917\n",
      "Epoch 9/10\n",
      "12000/12000 [==============================] - 81s 7ms/step - loss: 4.2582e-04 - acc: 0.9998 - val_loss: 0.0025 - val_acc: 0.9992\n",
      "\n",
      "Epoch 00009: val_acc did not improve from 0.99917\n",
      "Epoch 10/10\n",
      "12000/12000 [==============================] - 81s 7ms/step - loss: 0.0053 - acc: 0.9987 - val_loss: 0.0121 - val_acc: 0.9975\n",
      "\n",
      "Epoch 00010: val_acc did not improve from 0.99917\n",
      "CNN Error: 0.25%\n",
      "_________________________________________________________________\n",
      "Layer (type)                 Output Shape              Param #   \n",
      "=================================================================\n",
      "conv2d_1 (Conv2D)            (None, 46, 46, 32)        832       \n",
      "_________________________________________________________________\n",
      "max_pooling2d_1 (MaxPooling2 (None, 23, 23, 32)        0         \n",
      "_________________________________________________________________\n",
      "conv2d_2 (Conv2D)            (None, 19, 19, 64)        51264     \n",
      "_________________________________________________________________\n",
      "max_pooling2d_2 (MaxPooling2 (None, 4, 4, 64)          0         \n",
      "_________________________________________________________________\n",
      "flatten_1 (Flatten)          (None, 1024)              0         \n",
      "_________________________________________________________________\n",
      "dense_1 (Dense)              (None, 1024)              1049600   \n",
      "_________________________________________________________________\n",
      "dropout_1 (Dropout)          (None, 1024)              0         \n",
      "_________________________________________________________________\n",
      "dense_2 (Dense)              (None, 12)                12300     \n",
      "=================================================================\n",
      "Total params: 1,113,996\n",
      "Trainable params: 1,113,996\n",
      "Non-trainable params: 0\n",
      "_________________________________________________________________\n"
     ]
    }
   ],
   "source": [
    "model, callbacks_list = keras_model(image_x, image_y)\n",
    "model.fit(X_train, train_y, validation_data = (X_test, test_y), epochs = 10, batch_size = 64,\n",
    "         callbacks = callbacks_list)\n",
    "scores = model.evaluate(X_test, test_y, verbose = 0)\n",
    "print(\"CNN Error: %.2f%%\" % (100 - scores[1] * 100))\n",
    "print_summary(model)\n",
    "model.save(\"hand_gestures.h5\")"
   ]
  }
 ],
 "metadata": {
  "kernelspec": {
   "display_name": "Python 3",
   "language": "python",
   "name": "python3"
  },
  "language_info": {
   "codemirror_mode": {
    "name": "ipython",
    "version": 3
   },
   "file_extension": ".py",
   "mimetype": "text/x-python",
   "name": "python",
   "nbconvert_exporter": "python",
   "pygments_lexer": "ipython3",
   "version": "3.7.1"
  }
 },
 "nbformat": 4,
 "nbformat_minor": 2
}
